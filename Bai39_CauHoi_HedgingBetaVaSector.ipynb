{
  "cells": [
    {
      "cell_type": "raw",
      "metadata": {
        "vscode": {
          "languageId": "raw"
        }
      },
      "source": [
        "# Bài 39: Câu Hỏi - Tại Sao Nên Phòng vệ Beta và Rủi Ro Ngành\n",
        "---\n",
        "## Tóm Tắt Nội Dung Bài Học\n",
        "\n",
        "### Các Ý Chính:\n",
        "1. **Rủi ro hệ thống**: Ảnh hưởng đến nhiều chứng khoán và không thể đa dạng hóa\n",
        "2. **Luật cơ bản quản lý tài sản**: IR = IC × √BR (Information Ratio = Information Coefficient × √Breadth)\n",
        "3. **Độ rộng hiệu quả**: Giảm khi có tương quan cao giữa các cược\n",
        "4. **Ba phương pháp hedging**:\n",
        "   - Không hedging: Tương quan cao (~0.29)\n",
        "   - Hedging Beta: Giảm tương quan (~-0.035)\n",
        "   - Hedging Sector: Giảm tương quan thêm (~-0.028)\n",
        "5. **Công thức Buckle**: BR = N/(1 + ρ(N-1))\n",
        "6. **Ứng dụng thực tế**: Nên tích hợp hedging vào quá trình phát triển mô hình\n",
        "\n",
        "---\n"
      ]
    },
    {
      "cell_type": "raw",
      "metadata": {
        "vscode": {
          "languageId": "raw"
        }
      },
      "source": [
        "## PHẦN I: CÂU HỎI CẤP ĐỘ DỄ (3 câu)\n",
        "### Câu hỏi có code hoàn chỉnh hoặc lý thuyết đơn giản\n"
      ]
    },
    {
      "cell_type": "raw",
      "metadata": {
        "vscode": {
          "languageId": "raw"
        }
      },
      "source": [
        "### Câu 1 (Lý thuyết): \n",
        "**Giải thích ý nghĩa của công thức IR = IC × √BR trong \"Luật cơ bản của quản lý tài sản\"?**\n",
        "\n",
        "Trong đó:\n",
        "- IR là gì?\n",
        "- IC đại diện cho yếu tố nào?\n",
        "- BR đại diện cho yếu tố nào?\n",
        "- Tại sao cần có cả hai yếu tố IC và BR cao?\n"
      ]
    },
    {
      "cell_type": "raw",
      "metadata": {
        "vscode": {
          "languageId": "raw"
        }
      },
      "source": [
        "### Câu 2 (Code): \n",
        "**Sử dụng code dưới đây để tính toán tương quan trung bình của 6 cổ phiếu khi không có hedging:**\n"
      ]
    },
    {
      "cell_type": "code",
      "execution_count": null,
      "metadata": {},
      "outputs": [],
      "source": [
        "# Cài thư viện lấy dữ liệu miễn phí\n",
        "!curl -fsSLO https://raw.githubusercontent.com/algo-stocks/data/master/data.py\n"
      ]
    },
    {
      "cell_type": "code",
      "execution_count": null,
      "metadata": {},
      "outputs": [],
      "source": [
        "import numpy as np\n",
        "import matplotlib.pyplot as plt\n",
        "from sklearn.covariance import LedoitWolf\n",
        "import seaborn as sns\n",
        "from data import get_prices\n",
        "\n",
        "# Hàm trích xuất ma trận tương quan từ ma trận hiệp phương sai\n",
        "def extract_corr_from_cov(cov_matrix):\n",
        "    d = np.linalg.inv(np.diag(np.sqrt(np.diag(cov_matrix))))\n",
        "    corr = d.dot(cov_matrix).dot(d)\n",
        "    return corr\n",
        "\n",
        "# Lấy dữ liệu\n",
        "start = '2024-01-01'\n",
        "end = '2025-01-01'\n",
        "tickers = ['BID', 'CTG', 'ACB', 'HDG', 'VIC', 'VRE']\n",
        "historical_prices = get_prices(*tickers, start_date=start, end_date=end).ffill()\n",
        "\n",
        "# Tính lợi nhuận\n",
        "rets = historical_prices.pct_change().fillna(0)\n",
        "\n",
        "# Tính ma trận hiệp phương sai Ledoit-Wolf\n",
        "lw_cov = LedoitWolf().fit(rets).covariance_\n",
        "\n",
        "# Tính ma trận tương quan\n",
        "corr = extract_corr_from_cov(lw_cov)\n",
        "\n",
        "# Tính tương quan trung bình\n",
        "average_corr = np.mean(corr[np.triu_indices_from(corr, k=1)])\n",
        "print(f'Tương quan trung bình (không hedging): {average_corr:.4f}')\n",
        "\n",
        "# Vẽ biểu đồ heat map\n",
        "plt.figure(figsize=(8, 6))\n",
        "sns.heatmap(corr, annot=True, fmt='.2f', xticklabels=tickers, yticklabels=tickers)\n",
        "plt.title('Ma trận tương quan - Không hedging')\n",
        "plt.show()\n"
      ]
    },
    {
      "cell_type": "raw",
      "metadata": {
        "vscode": {
          "languageId": "raw"
        }
      },
      "source": [
        "**Hãy chạy code trên và giải thích kết quả tương quan trung bình thu được.**\n"
      ]
    },
    {
      "cell_type": "raw",
      "metadata": {
        "vscode": {
          "languageId": "raw"
        }
      },
      "source": [
        "### Câu 3 (Lý thuyết):\n",
        "**Tại sao rủi ro hệ thống (systematic risk) lại \"làm hỏng mọi thứ\" trong đầu tư? Cho ví dụ cụ thể về rủi ro hệ thống trên thị trường chứng khoán Việt Nam.**\n"
      ]
    },
    {
      "cell_type": "raw",
      "metadata": {
        "vscode": {
          "languageId": "raw"
        }
      },
      "source": [
        "---\n",
        "## PHẦN II: CÂU HỎI CẤP ĐỘ HƠI KHÓ (3 câu)\n",
        "### Câu hỏi có code không đầy đủ\n"
      ]
    },
    {
      "cell_type": "raw",
      "metadata": {
        "vscode": {
          "languageId": "raw"
        }
      },
      "source": [
        "### Câu 4 (Code không đầy đủ):\n",
        "**Hoàn thiện code dưới đây để tính toán residuals sau khi hedging beta với VNINDEX:**\n"
      ]
    },
    {
      "cell_type": "code",
      "execution_count": null,
      "metadata": {},
      "outputs": [],
      "source": [
        "import statsmodels.api as sm\n",
        "\n",
        "# Lấy dữ liệu bao gồm VNINDEX\n",
        "tickers_with_market = ['BID', 'CTG', 'ACB', 'HDG', 'VIC', 'VRE', 'VNINDEX']\n",
        "historical_prices = get_prices(*tickers_with_market, start_date=start, end_date=end).ffill()\n",
        "rets = historical_prices.pct_change().fillna(0)\n",
        "\n",
        "# Tách dữ liệu thị trường và cổ phiếu\n",
        "market = rets['VNINDEX']\n",
        "stock_rets = rets.drop('VNINDEX', axis=1)\n",
        "residuals = stock_rets.copy() * 0\n",
        "\n",
        "# TODO: Hoàn thiện vòng lặp để tính residuals cho từng cổ phiếu\n",
        "for stock in stock_rets.columns:\n",
        "    # TODO: Tạo mô hình OLS giữa lợi nhuận cổ phiếu và thị trường\n",
        "    model = None  # Hoàn thiện dòng này\n",
        "    results = None  # Hoàn thiện dòng này\n",
        "    # TODO: Lấy residuals từ mô hình\n",
        "    residuals[stock] = None  # Hoàn thiện dòng này\n",
        "\n",
        "# Tính ma trận tương quan của residuals\n",
        "lw_cov_hedged = LedoitWolf().fit(residuals).covariance_\n",
        "corr_hedged = extract_corr_from_cov(lw_cov_hedged)\n",
        "average_corr_hedged = np.mean(corr_hedged[np.triu_indices_from(corr_hedged, k=1)])\n",
        "\n",
        "print(f'Tương quan trung bình (hedging beta): {average_corr_hedged:.4f}')\n"
      ]
    },
    {
      "cell_type": "raw",
      "metadata": {
        "vscode": {
          "languageId": "raw"
        }
      },
      "source": [
        "### Câu 5 (Code không đầy đủ):\n",
        "**Sử dụng công thức Buckle để tính độ rộng hiệu quả. Hoàn thiện hàm dưới đây:**\n"
      ]
    },
    {
      "cell_type": "code",
      "execution_count": null,
      "metadata": {},
      "outputs": [],
      "source": [
        "def tinh_do_rong_hieu_qua(N, rho):\n",
        "    \"\"\"\n",
        "    Tính độ rộng hiệu quả theo công thức Buckle\n",
        "    \n",
        "    Parameters:\n",
        "    N (int): Số lượng cổ phiếu\n",
        "    rho (float): Tương quan trung bình\n",
        "    \n",
        "    Returns:\n",
        "    float: Độ rộng hiệu quả\n",
        "    \"\"\"\n",
        "    # TODO: Hoàn thiện công thức Buckle BR = N/(1 + ρ(N-1))\n",
        "    return None  # Hoàn thiện công thức\n",
        "\n",
        "# Test với dữ liệu từ câu trước\n",
        "N = 6  # 6 cổ phiếu\n",
        "\n",
        "# TODO: Tính độ rộng hiệu quả cho trường hợp không hedging (rho ~ 0.29)\n",
        "br_khong_hedge = None  # Hoàn thiện\n",
        "\n",
        "# TODO: Tính độ rộng hiệu quả cho trường hợp hedging beta (rho ~ -0.035)\n",
        "br_hedge_beta = None  # Hoàn thiện\n",
        "\n",
        "print(f'Độ rộng hiệu quả (không hedge): {br_khong_hedge:.2f}')\n",
        "print(f'Độ rộng hiệu quả (hedge beta): {br_hedge_beta:.2f}')\n",
        "print(f'Cải thiện: {br_hedge_beta/br_khong_hedge:.2f} lần')\n"
      ]
    },
    {
      "cell_type": "raw",
      "metadata": {
        "vscode": {
          "languageId": "raw"
        }
      },
      "source": [
        "### Câu 6 (Code không đầy đủ):\n",
        "**Vẽ biểu đồ thể hiện mối quan hệ giữa tương quan và độ rộng hiệu quả. Hoàn thiện code:**\n"
      ]
    },
    {
      "cell_type": "code",
      "execution_count": null,
      "metadata": {},
      "outputs": [],
      "source": [
        "# Tạo dải giá trị tương quan từ 0 đến 1\n",
        "corr_range = np.linspace(start=0, stop=1.0, num=100)\n",
        "\n",
        "# TODO: Tính độ rộng hiệu quả cho từng giá trị tương quan\n",
        "br_values = [tinh_do_rong_hieu_qua(6, rho) for rho in corr_range]\n",
        "\n",
        "# Vẽ biểu đồ\n",
        "plt.figure(figsize=(10, 6))\n",
        "# TODO: Vẽ đường biểu diễn mối quan hệ\n",
        "plt.plot(None, None)  # Hoàn thiện tham số\n",
        "\n",
        "# TODO: Đánh dấu các điểm quan trọng\n",
        "plt.scatter([0.29], [tinh_do_rong_hieu_qua(6, 0.29)], color='red', s=100, label='Không hedge')\n",
        "plt.scatter([-0.035], [tinh_do_rong_hieu_qua(6, -0.035)], color='green', s=100, label='Hedge beta')\n",
        "\n",
        "# TODO: Hoàn thiện nhãn và tiêu đề\n",
        "plt.title('Hoàn thiện tiêu đề')  # Hoàn thiện tiêu đề\n",
        "plt.xlabel('Hoàn thiện nhãn trục x')  # Hoàn thiện nhãn trục x\n",
        "plt.ylabel('Hoàn thiện nhãn trục y')  # Hoàn thiện nhãn trục y\n",
        "plt.legend()\n",
        "plt.grid(True, alpha=0.3)\n",
        "plt.show()\n"
      ]
    },
    {
      "cell_type": "raw",
      "metadata": {
        "vscode": {
          "languageId": "raw"
        }
      },
      "source": [
        "---\n",
        "## PHẦN III: CÂU HỎI CẤP ĐỘ KHÓ (3 câu)\n",
        "### Câu hỏi không có code\n"
      ]
    },
    {
      "cell_type": "raw",
      "metadata": {
        "vscode": {
          "languageId": "raw"
        }
      },
      "source": [
        "### Câu 7 (Không có code):\n",
        "**Thiết kế và viết code hoàn chỉnh để thực hiện hedging theo ngành (sector hedging) cho danh mục đầu tư bao gồm:**\n",
        "- **Ngành Ngân hàng**: BID, CTG, ACB (dùng VCB làm benchmark)\n",
        "- **Ngành Bất động sản**: HDG, VIC, VRE (dùng VHM làm benchmark)\n",
        "- **Thị trường**: VNINDEX\n",
        "\n",
        "**Yêu cầu:**\n",
        "1. Tính toán residuals sau khi hedging cả beta thị trường và beta ngành\n",
        "2. So sánh tương quan trung bình với trường hợp chỉ hedging beta\n",
        "3. Vẽ heat map thể hiện ma trận tương quan\n",
        "4. Giải thích tại sao phải tính beta ngành trên residuals của market hedge (không phải trên returns gốc)\n"
      ]
    },
    {
      "cell_type": "code",
      "execution_count": null,
      "metadata": {},
      "outputs": [],
      "source": [
        "# Viết code hoàn chỉnh tại đây\n"
      ]
    },
    {
      "cell_type": "raw",
      "metadata": {
        "vscode": {
          "languageId": "raw"
        }
      },
      "source": [
        "### Câu 8 (Không có code):\n",
        "**Phân tích và so sánh hiệu quả của ba phương pháp hedging:**\n",
        "\n",
        "**Yêu cầu viết code để:**\n",
        "1. Tính toán độ rộng hiệu quả cho cả 3 trường hợp\n",
        "2. Tạo bảng so sánh chi tiết bao gồm:\n",
        "   - Tương quan trung bình\n",
        "   - Độ rộng hiệu quả\n",
        "   - Tỷ lệ cải thiện so với không hedging\n",
        "3. Vẽ biểu đồ cột so sánh độ rộng hiệu quả\n",
        "4. Giải thích ý nghĩa kinh tế của việc tăng độ rộng hiệu quả\n",
        "5. Thảo luận về trade-off giữa chi phí hedging và lợi ích thu được\n"
      ]
    },
    {
      "cell_type": "code",
      "execution_count": null,
      "metadata": {},
      "outputs": [],
      "source": [
        "# Viết code hoàn chỉnh tại đây\n"
      ]
    },
    {
      "cell_type": "raw",
      "metadata": {
        "vscode": {
          "languageId": "raw"
        }
      },
      "source": [
        "### Câu 9 (Không có code):\n",
        "**Ứng dụng thực tế trong xây dựng chiến lược giao dịch:**\n",
        "\n",
        "**Thiết kế một hệ thống hedging tự động bao gồm:**\n",
        "1. **Hàm phát hiện ngành**: Tự động phân loại cổ phiếu theo ngành dựa trên tương quan\n",
        "2. **Hàm tính toán trọng số hedge**: Tự động tính beta và trọng số hedge phù hợp\n",
        "3. **Hàm đánh giá hiệu quả**: Monitor độ rộng hiệu quả theo thời gian\n",
        "4. **Hàm cảnh báo**: Thông báo khi tương quan tăng cao bất thường\n",
        "\n",
        "**Yêu cầu bổ sung:**\n",
        "- Xử lý trường hợp dữ liệu thiếu hoặc outliers\n",
        "- Tối ưu hóa thời điểm rebalance hedge positions\n",
        "- Tính toán chi phí giao dịch của việc hedging\n",
        "- Đề xuất cách tích hợp vào quy trình phát triển chiến lược\n",
        "\n",
        "**Viết code demo với dữ liệu thực và giải thích từng bước.**\n"
      ]
    },
    {
      "cell_type": "code",
      "execution_count": null,
      "metadata": {},
      "outputs": [],
      "source": [
        "# Viết code hoàn chỉnh tại đây\n"
      ]
    },
    {
      "cell_type": "raw",
      "metadata": {
        "vscode": {
          "languageId": "raw"
        }
      },
      "source": [
        "---\n",
        "**Lưu ý**: \n",
        "- Các câu hỏi được thiết kế để củng cố kiến thức từ cơ bản đến nâng cao\n",
        "- Sử dụng dữ liệu thực từ thị trường chứng khoán Việt Nam\n",
        "- Tập trung vào ứng dụng thực tế trong trading và quản lý rủi ro\n"
      ]
    }
  ],
  "metadata": {
    "language_info": {
      "name": "python"
    }
  },
  "nbformat": 4,
  "nbformat_minor": 2
}
